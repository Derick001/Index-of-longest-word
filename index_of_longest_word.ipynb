{
 "cells": [
  {
   "cell_type": "code",
   "execution_count": 6,
   "metadata": {},
   "outputs": [
    {
     "name": "stdout",
     "output_type": "stream",
     "text": [
      "The longest word is at index: 2\n"
     ]
    }
   ],
   "source": [
    "def longest_word_index(list):\n",
    "    for words in list:\n",
    "        if all (len(words) == len(list[0]) for words in list):\n",
    "            return 'All words are the same length'\n",
    "    else:\n",
    "        words == len(max(list))\n",
    "        return f'The longest word is at index: {list.index(words)}'\n",
    "words1 = [\"Hate\", \"remorse\", \"vengeance\"]\n",
    "print(longest_word_index(words1))"
   ]
  }
 ],
 "metadata": {
  "kernelspec": {
   "display_name": "Python 3",
   "language": "python",
   "name": "python3"
  },
  "language_info": {
   "codemirror_mode": {
    "name": "ipython",
    "version": 3
   },
   "file_extension": ".py",
   "mimetype": "text/x-python",
   "name": "python",
   "nbconvert_exporter": "python",
   "pygments_lexer": "ipython3",
   "version": "3.11.4"
  },
  "orig_nbformat": 4
 },
 "nbformat": 4,
 "nbformat_minor": 2
}
